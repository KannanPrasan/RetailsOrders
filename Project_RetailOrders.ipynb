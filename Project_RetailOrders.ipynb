{
 "cells": [
  {
   "cell_type": "code",
   "execution_count": 1,
   "id": "05e9fd46-1901-4ae7-9833-8c8f1cbf9345",
   "metadata": {},
   "outputs": [
    {
     "name": "stdout",
     "output_type": "stream",
     "text": [
      "starting\n"
     ]
    }
   ],
   "source": [
    "print (\"starting\")"
   ]
  },
  {
   "cell_type": "code",
   "execution_count": 3,
   "id": "f56ff31e-3cf1-469b-9162-50b3f2d8af39",
   "metadata": {},
   "outputs": [
    {
     "name": "stdout",
     "output_type": "stream",
     "text": [
      "Requirement already satisfied: requests in c:\\users\\kanna\\anaconda3\\lib\\site-packages (2.32.2)\n",
      "Requirement already satisfied: charset-normalizer<4,>=2 in c:\\users\\kanna\\anaconda3\\lib\\site-packages (from requests) (2.0.4)\n",
      "Requirement already satisfied: idna<4,>=2.5 in c:\\users\\kanna\\anaconda3\\lib\\site-packages (from requests) (3.7)\n",
      "Requirement already satisfied: urllib3<3,>=1.21.1 in c:\\users\\kanna\\anaconda3\\lib\\site-packages (from requests) (2.2.2)\n",
      "Requirement already satisfied: certifi>=2017.4.17 in c:\\users\\kanna\\anaconda3\\lib\\site-packages (from requests) (2024.8.30)\n",
      "Note: you may need to restart the kernel to use updated packages.\n"
     ]
    }
   ],
   "source": [
    "print(\"Installing libraries\")\n",
    "pip install requests"
   ]
  },
  {
   "cell_type": "code",
   "execution_count": 5,
   "id": "d279836d-630e-45a2-ac19-a489451f9e23",
   "metadata": {},
   "outputs": [
    {
     "name": "stdout",
     "output_type": "stream",
     "text": [
      "Collecting kaggle\n",
      "  Downloading kaggle-1.6.17.tar.gz (82 kB)\n",
      "     ---------------------------------------- 0.0/82.7 kB ? eta -:--:--\n",
      "     ---------------------------------------- 0.0/82.7 kB ? eta -:--:--\n",
      "     -------------- ----------------------- 30.7/82.7 kB 330.3 kB/s eta 0:00:01\n",
      "     ---------------------------- --------- 61.4/82.7 kB 469.7 kB/s eta 0:00:01\n",
      "     -------------------------------------  81.9/82.7 kB 512.0 kB/s eta 0:00:01\n",
      "     -------------------------------------  81.9/82.7 kB 512.0 kB/s eta 0:00:01\n",
      "     -------------------------------------- 82.7/82.7 kB 309.6 kB/s eta 0:00:00\n",
      "  Preparing metadata (setup.py): started\n",
      "  Preparing metadata (setup.py): finished with status 'done'\n",
      "Requirement already satisfied: six>=1.10 in c:\\users\\kanna\\anaconda3\\lib\\site-packages (from kaggle) (1.16.0)\n",
      "Requirement already satisfied: certifi>=2023.7.22 in c:\\users\\kanna\\anaconda3\\lib\\site-packages (from kaggle) (2024.8.30)\n",
      "Requirement already satisfied: python-dateutil in c:\\users\\kanna\\anaconda3\\lib\\site-packages (from kaggle) (2.9.0.post0)\n",
      "Requirement already satisfied: requests in c:\\users\\kanna\\anaconda3\\lib\\site-packages (from kaggle) (2.32.2)\n",
      "Requirement already satisfied: tqdm in c:\\users\\kanna\\anaconda3\\lib\\site-packages (from kaggle) (4.66.4)\n",
      "Requirement already satisfied: python-slugify in c:\\users\\kanna\\anaconda3\\lib\\site-packages (from kaggle) (5.0.2)\n",
      "Requirement already satisfied: urllib3 in c:\\users\\kanna\\anaconda3\\lib\\site-packages (from kaggle) (2.2.2)\n",
      "Requirement already satisfied: bleach in c:\\users\\kanna\\anaconda3\\lib\\site-packages (from kaggle) (4.1.0)\n",
      "Requirement already satisfied: packaging in c:\\users\\kanna\\anaconda3\\lib\\site-packages (from bleach->kaggle) (23.2)\n",
      "Requirement already satisfied: webencodings in c:\\users\\kanna\\anaconda3\\lib\\site-packages (from bleach->kaggle) (0.5.1)\n",
      "Requirement already satisfied: text-unidecode>=1.3 in c:\\users\\kanna\\anaconda3\\lib\\site-packages (from python-slugify->kaggle) (1.3)\n",
      "Requirement already satisfied: charset-normalizer<4,>=2 in c:\\users\\kanna\\anaconda3\\lib\\site-packages (from requests->kaggle) (2.0.4)\n",
      "Requirement already satisfied: idna<4,>=2.5 in c:\\users\\kanna\\anaconda3\\lib\\site-packages (from requests->kaggle) (3.7)\n",
      "Requirement already satisfied: colorama in c:\\users\\kanna\\anaconda3\\lib\\site-packages (from tqdm->kaggle) (0.4.6)\n",
      "Building wheels for collected packages: kaggle\n",
      "  Building wheel for kaggle (setup.py): started\n",
      "  Building wheel for kaggle (setup.py): finished with status 'done'\n",
      "  Created wheel for kaggle: filename=kaggle-1.6.17-py3-none-any.whl size=105795 sha256=89b44c99eb8f25cdfed3d79775bd67d7a6195bd8b083208311fee55c07c93507\n",
      "  Stored in directory: c:\\users\\kanna\\appdata\\local\\pip\\cache\\wheels\\46\\d2\\26\\84d0a1acdb9c6baccf7d28cf06962ec80529fe1ad938489983\n",
      "Successfully built kaggle\n",
      "Installing collected packages: kaggle\n",
      "Successfully installed kaggle-1.6.17\n",
      "Note: you may need to restart the kernel to use updated packages.\n"
     ]
    }
   ],
   "source": [
    "pip install kaggle"
   ]
  },
  {
   "cell_type": "code",
   "execution_count": 7,
   "id": "bfdc2e88-eee7-4521-81b8-763079da7893",
   "metadata": {},
   "outputs": [
    {
     "name": "stdout",
     "output_type": "stream",
     "text": [
      "Dataset URL: https://www.kaggle.com/datasets/ankitbansal06/retail-orders"
     ]
    },
    {
     "name": "stderr",
     "output_type": "stream",
     "text": [
      "\n",
      "  0%|          | 0.00/200k [00:00<?, ?B/s]\n",
      "100%|##########| 200k/200k [00:00<00:00, 238kB/s]\n",
      "100%|##########| 200k/200k [00:00<00:00, 237kB/s]\n"
     ]
    },
    {
     "name": "stdout",
     "output_type": "stream",
     "text": [
      "\n",
      "License(s): CC0-1.0\n",
      "Downloading orders.csv.zip to C:\\Users\\kanna\n",
      "\n"
     ]
    }
   ],
   "source": [
    "print(\"get the file\")\n",
    "!kaggle datasets download ankitbansal06/retail-orders -f orders.csv"
   ]
  },
  {
   "cell_type": "code",
   "execution_count": 11,
   "id": "567a7f15-ccfb-4731-b422-d69b404c64af",
   "metadata": {},
   "outputs": [],
   "source": [
    "import zipfile"
   ]
  },
  {
   "cell_type": "code",
   "execution_count": 13,
   "id": "e4db5bd0-f4c7-4414-9ed5-9f12559cde44",
   "metadata": {},
   "outputs": [],
   "source": [
    "import os"
   ]
  },
  {
   "cell_type": "code",
   "execution_count": 17,
   "id": "32750ee0-fdde-4cd9-a500-de7d7586e84e",
   "metadata": {},
   "outputs": [
    {
     "data": {
      "text/plain": [
       "'C:\\\\Users\\\\kanna'"
      ]
     },
     "execution_count": 17,
     "metadata": {},
     "output_type": "execute_result"
    }
   ],
   "source": [
    "os.getcwd()"
   ]
  },
  {
   "cell_type": "code",
   "execution_count": 25,
   "id": "9719a592-9f7c-4afc-af85-7633f99b8e3a",
   "metadata": {},
   "outputs": [],
   "source": [
    "print (\"unzip the file\")\n",
    "zip_file_path = r\"C:\\Users\\kanna\\orders.csv.zip\""
   ]
  },
  {
   "cell_type": "code",
   "execution_count": 29,
   "id": "3c5f5b23-4390-4404-b520-db13e54bcbcf",
   "metadata": {},
   "outputs": [],
   "source": [
    "extract_to_dir = r\"C:\\Users\\kanna\""
   ]
  },
  {
   "cell_type": "code",
   "execution_count": 31,
   "id": "1541eb3b-7791-4c81-a2d6-c037cb033da4",
   "metadata": {},
   "outputs": [],
   "source": [
    "os.makedirs(extract_to_dir, exist_ok=True)"
   ]
  },
  {
   "cell_type": "code",
   "execution_count": 33,
   "id": "9036d0be-fde5-4741-99a8-ef85e3bc5fad",
   "metadata": {},
   "outputs": [],
   "source": [
    "with zipfile.ZipFile(zip_file_path, 'r') as zip_ref:\n",
    "    zip_ref.extractall(extract_to_dir)"
   ]
  },
  {
   "cell_type": "code",
   "execution_count": 35,
   "id": "1c9855a4-6d76-464a-840b-806670762a7f",
   "metadata": {},
   "outputs": [],
   "source": [
    "import pandas as pd"
   ]
  },
  {
   "cell_type": "code",
   "execution_count": 43,
   "id": "a047821f-631e-4e65-a641-13bdddba5b75",
   "metadata": {},
   "outputs": [],
   "source": [
    "print (\"Read the file\")\n",
    "orders=pd.read_csv(r\"C:\\Users\\kanna\\orders.csv\")"
   ]
  },
  {
   "cell_type": "code",
   "execution_count": 45,
   "id": "4bf371ee-438a-40be-ba32-890aeb8f0f31",
   "metadata": {},
   "outputs": [
    {
     "name": "stdout",
     "output_type": "stream",
     "text": [
      "<class 'pandas.core.frame.DataFrame'>\n",
      "RangeIndex: 9994 entries, 0 to 9993\n",
      "Data columns (total 16 columns):\n",
      " #   Column            Non-Null Count  Dtype \n",
      "---  ------            --------------  ----- \n",
      " 0   Order Id          9994 non-null   int64 \n",
      " 1   Order Date        9994 non-null   object\n",
      " 2   Ship Mode         9993 non-null   object\n",
      " 3   Segment           9994 non-null   object\n",
      " 4   Country           9994 non-null   object\n",
      " 5   City              9994 non-null   object\n",
      " 6   State             9994 non-null   object\n",
      " 7   Postal Code       9994 non-null   int64 \n",
      " 8   Region            9994 non-null   object\n",
      " 9   Category          9994 non-null   object\n",
      " 10  Sub Category      9994 non-null   object\n",
      " 11  Product Id        9994 non-null   object\n",
      " 12  cost price        9994 non-null   int64 \n",
      " 13  List Price        9994 non-null   int64 \n",
      " 14  Quantity          9994 non-null   int64 \n",
      " 15  Discount Percent  9994 non-null   int64 \n",
      "dtypes: int64(6), object(10)\n",
      "memory usage: 1.2+ MB\n"
     ]
    }
   ],
   "source": [
    "orders.info()"
   ]
  },
  {
   "cell_type": "code",
   "execution_count": 185,
   "id": "ce4b968f-b085-4b3a-8cb0-dbb589e76f9f",
   "metadata": {},
   "outputs": [],
   "source": [
    "orders.rename(columns={\"Order Id\": \"Order_Id\", \"Order Date\": \"Order_Date\", \"Ship Mode\":\"Ship_Mode\",\"Postal Code\":\"Postal_Code\", \"Sub Category\":\"Sub_Category\",\"Product Id\":\"Product_Id\", \"cost price\":\"cost_price\", \"List Price\":\"List_Price\", \"Discount Percent\":\"Discount_Percent\" }, inplace=True)"
   ]
  },
  {
   "cell_type": "code",
   "execution_count": 193,
   "id": "8217efa6-1e51-4d6a-91a3-97a731d72068",
   "metadata": {},
   "outputs": [
    {
     "data": {
      "text/plain": [
       "Order_Id            0\n",
       "Order_Date          0\n",
       "Ship_Mode           0\n",
       "Segment             0\n",
       "Country             0\n",
       "City                0\n",
       "State               0\n",
       "Postal_Code         0\n",
       "Region              0\n",
       "Category            0\n",
       "Sub_Category        0\n",
       "Product_Id          0\n",
       "cost_price          0\n",
       "List_Price          0\n",
       "Quantity            0\n",
       "Discount_Percent    0\n",
       "dtype: int64"
      ]
     },
     "execution_count": 193,
     "metadata": {},
     "output_type": "execute_result"
    }
   ],
   "source": [
    "orders.isnull().sum()"
   ]
  },
  {
   "cell_type": "code",
   "execution_count": 189,
   "id": "4e30d79a-0254-47bd-8156-ed5c7f667331",
   "metadata": {},
   "outputs": [
    {
     "data": {
      "text/html": [
       "<div>\n",
       "<style scoped>\n",
       "    .dataframe tbody tr th:only-of-type {\n",
       "        vertical-align: middle;\n",
       "    }\n",
       "\n",
       "    .dataframe tbody tr th {\n",
       "        vertical-align: top;\n",
       "    }\n",
       "\n",
       "    .dataframe thead th {\n",
       "        text-align: right;\n",
       "    }\n",
       "</style>\n",
       "<table border=\"1\" class=\"dataframe\">\n",
       "  <thead>\n",
       "    <tr style=\"text-align: right;\">\n",
       "      <th></th>\n",
       "      <th>Order_Id</th>\n",
       "      <th>Order_Date</th>\n",
       "      <th>Ship_Mode</th>\n",
       "      <th>Segment</th>\n",
       "      <th>Country</th>\n",
       "      <th>City</th>\n",
       "      <th>State</th>\n",
       "      <th>Postal_Code</th>\n",
       "      <th>Region</th>\n",
       "      <th>Category</th>\n",
       "      <th>Sub_Category</th>\n",
       "      <th>Product_Id</th>\n",
       "      <th>cost_price</th>\n",
       "      <th>List_Price</th>\n",
       "      <th>Quantity</th>\n",
       "      <th>Discount_Percent</th>\n",
       "    </tr>\n",
       "  </thead>\n",
       "  <tbody>\n",
       "    <tr>\n",
       "      <th>0</th>\n",
       "      <td>1</td>\n",
       "      <td>2023-03-01</td>\n",
       "      <td>Second Class</td>\n",
       "      <td>Consumer</td>\n",
       "      <td>United States</td>\n",
       "      <td>Henderson</td>\n",
       "      <td>Kentucky</td>\n",
       "      <td>42420</td>\n",
       "      <td>South</td>\n",
       "      <td>Furniture</td>\n",
       "      <td>Bookcases</td>\n",
       "      <td>FUR-BO-10001798</td>\n",
       "      <td>240</td>\n",
       "      <td>260</td>\n",
       "      <td>2</td>\n",
       "      <td>2</td>\n",
       "    </tr>\n",
       "    <tr>\n",
       "      <th>1</th>\n",
       "      <td>2</td>\n",
       "      <td>2023-08-15</td>\n",
       "      <td>Second Class</td>\n",
       "      <td>Consumer</td>\n",
       "      <td>United States</td>\n",
       "      <td>Henderson</td>\n",
       "      <td>Kentucky</td>\n",
       "      <td>42420</td>\n",
       "      <td>South</td>\n",
       "      <td>Furniture</td>\n",
       "      <td>Chairs</td>\n",
       "      <td>FUR-CH-10000454</td>\n",
       "      <td>600</td>\n",
       "      <td>730</td>\n",
       "      <td>3</td>\n",
       "      <td>3</td>\n",
       "    </tr>\n",
       "    <tr>\n",
       "      <th>2</th>\n",
       "      <td>3</td>\n",
       "      <td>2023-01-10</td>\n",
       "      <td>Second Class</td>\n",
       "      <td>Corporate</td>\n",
       "      <td>United States</td>\n",
       "      <td>Los Angeles</td>\n",
       "      <td>California</td>\n",
       "      <td>90036</td>\n",
       "      <td>West</td>\n",
       "      <td>Office Supplies</td>\n",
       "      <td>Labels</td>\n",
       "      <td>OFF-LA-10000240</td>\n",
       "      <td>10</td>\n",
       "      <td>10</td>\n",
       "      <td>2</td>\n",
       "      <td>5</td>\n",
       "    </tr>\n",
       "    <tr>\n",
       "      <th>3</th>\n",
       "      <td>4</td>\n",
       "      <td>2022-06-18</td>\n",
       "      <td>Standard Class</td>\n",
       "      <td>Consumer</td>\n",
       "      <td>United States</td>\n",
       "      <td>Fort Lauderdale</td>\n",
       "      <td>Florida</td>\n",
       "      <td>33311</td>\n",
       "      <td>South</td>\n",
       "      <td>Furniture</td>\n",
       "      <td>Tables</td>\n",
       "      <td>FUR-TA-10000577</td>\n",
       "      <td>780</td>\n",
       "      <td>960</td>\n",
       "      <td>5</td>\n",
       "      <td>2</td>\n",
       "    </tr>\n",
       "    <tr>\n",
       "      <th>4</th>\n",
       "      <td>5</td>\n",
       "      <td>2022-07-13</td>\n",
       "      <td>Standard Class</td>\n",
       "      <td>Consumer</td>\n",
       "      <td>United States</td>\n",
       "      <td>Fort Lauderdale</td>\n",
       "      <td>Florida</td>\n",
       "      <td>33311</td>\n",
       "      <td>South</td>\n",
       "      <td>Office Supplies</td>\n",
       "      <td>Storage</td>\n",
       "      <td>OFF-ST-10000760</td>\n",
       "      <td>20</td>\n",
       "      <td>20</td>\n",
       "      <td>2</td>\n",
       "      <td>5</td>\n",
       "    </tr>\n",
       "    <tr>\n",
       "      <th>...</th>\n",
       "      <td>...</td>\n",
       "      <td>...</td>\n",
       "      <td>...</td>\n",
       "      <td>...</td>\n",
       "      <td>...</td>\n",
       "      <td>...</td>\n",
       "      <td>...</td>\n",
       "      <td>...</td>\n",
       "      <td>...</td>\n",
       "      <td>...</td>\n",
       "      <td>...</td>\n",
       "      <td>...</td>\n",
       "      <td>...</td>\n",
       "      <td>...</td>\n",
       "      <td>...</td>\n",
       "      <td>...</td>\n",
       "    </tr>\n",
       "    <tr>\n",
       "      <th>9989</th>\n",
       "      <td>9990</td>\n",
       "      <td>2023-02-18</td>\n",
       "      <td>Second Class</td>\n",
       "      <td>Consumer</td>\n",
       "      <td>United States</td>\n",
       "      <td>Miami</td>\n",
       "      <td>Florida</td>\n",
       "      <td>33180</td>\n",
       "      <td>South</td>\n",
       "      <td>Furniture</td>\n",
       "      <td>Furnishings</td>\n",
       "      <td>FUR-FU-10001889</td>\n",
       "      <td>30</td>\n",
       "      <td>30</td>\n",
       "      <td>3</td>\n",
       "      <td>4</td>\n",
       "    </tr>\n",
       "    <tr>\n",
       "      <th>9990</th>\n",
       "      <td>9991</td>\n",
       "      <td>2023-03-17</td>\n",
       "      <td>Standard Class</td>\n",
       "      <td>Consumer</td>\n",
       "      <td>United States</td>\n",
       "      <td>Costa Mesa</td>\n",
       "      <td>California</td>\n",
       "      <td>92627</td>\n",
       "      <td>West</td>\n",
       "      <td>Furniture</td>\n",
       "      <td>Furnishings</td>\n",
       "      <td>FUR-FU-10000747</td>\n",
       "      <td>70</td>\n",
       "      <td>90</td>\n",
       "      <td>2</td>\n",
       "      <td>4</td>\n",
       "    </tr>\n",
       "    <tr>\n",
       "      <th>9991</th>\n",
       "      <td>9992</td>\n",
       "      <td>2022-08-07</td>\n",
       "      <td>Standard Class</td>\n",
       "      <td>Consumer</td>\n",
       "      <td>United States</td>\n",
       "      <td>Costa Mesa</td>\n",
       "      <td>California</td>\n",
       "      <td>92627</td>\n",
       "      <td>West</td>\n",
       "      <td>Technology</td>\n",
       "      <td>Phones</td>\n",
       "      <td>TEC-PH-10003645</td>\n",
       "      <td>220</td>\n",
       "      <td>260</td>\n",
       "      <td>2</td>\n",
       "      <td>2</td>\n",
       "    </tr>\n",
       "    <tr>\n",
       "      <th>9992</th>\n",
       "      <td>9993</td>\n",
       "      <td>2022-11-19</td>\n",
       "      <td>Standard Class</td>\n",
       "      <td>Consumer</td>\n",
       "      <td>United States</td>\n",
       "      <td>Costa Mesa</td>\n",
       "      <td>California</td>\n",
       "      <td>92627</td>\n",
       "      <td>West</td>\n",
       "      <td>Office Supplies</td>\n",
       "      <td>Paper</td>\n",
       "      <td>OFF-PA-10004041</td>\n",
       "      <td>30</td>\n",
       "      <td>30</td>\n",
       "      <td>4</td>\n",
       "      <td>3</td>\n",
       "    </tr>\n",
       "    <tr>\n",
       "      <th>9993</th>\n",
       "      <td>9994</td>\n",
       "      <td>2022-07-17</td>\n",
       "      <td>Second Class</td>\n",
       "      <td>Consumer</td>\n",
       "      <td>United States</td>\n",
       "      <td>Westminster</td>\n",
       "      <td>California</td>\n",
       "      <td>92683</td>\n",
       "      <td>West</td>\n",
       "      <td>Office Supplies</td>\n",
       "      <td>Appliances</td>\n",
       "      <td>OFF-AP-10002684</td>\n",
       "      <td>210</td>\n",
       "      <td>240</td>\n",
       "      <td>2</td>\n",
       "      <td>3</td>\n",
       "    </tr>\n",
       "  </tbody>\n",
       "</table>\n",
       "<p>9994 rows × 16 columns</p>\n",
       "</div>"
      ],
      "text/plain": [
       "      Order_Id  Order_Date       Ship_Mode    Segment        Country  \\\n",
       "0            1  2023-03-01    Second Class   Consumer  United States   \n",
       "1            2  2023-08-15    Second Class   Consumer  United States   \n",
       "2            3  2023-01-10    Second Class  Corporate  United States   \n",
       "3            4  2022-06-18  Standard Class   Consumer  United States   \n",
       "4            5  2022-07-13  Standard Class   Consumer  United States   \n",
       "...        ...         ...             ...        ...            ...   \n",
       "9989      9990  2023-02-18    Second Class   Consumer  United States   \n",
       "9990      9991  2023-03-17  Standard Class   Consumer  United States   \n",
       "9991      9992  2022-08-07  Standard Class   Consumer  United States   \n",
       "9992      9993  2022-11-19  Standard Class   Consumer  United States   \n",
       "9993      9994  2022-07-17    Second Class   Consumer  United States   \n",
       "\n",
       "                 City       State  Postal_Code Region         Category  \\\n",
       "0           Henderson    Kentucky        42420  South        Furniture   \n",
       "1           Henderson    Kentucky        42420  South        Furniture   \n",
       "2         Los Angeles  California        90036   West  Office Supplies   \n",
       "3     Fort Lauderdale     Florida        33311  South        Furniture   \n",
       "4     Fort Lauderdale     Florida        33311  South  Office Supplies   \n",
       "...               ...         ...          ...    ...              ...   \n",
       "9989            Miami     Florida        33180  South        Furniture   \n",
       "9990       Costa Mesa  California        92627   West        Furniture   \n",
       "9991       Costa Mesa  California        92627   West       Technology   \n",
       "9992       Costa Mesa  California        92627   West  Office Supplies   \n",
       "9993      Westminster  California        92683   West  Office Supplies   \n",
       "\n",
       "     Sub_Category       Product_Id  cost_price  List_Price  Quantity  \\\n",
       "0       Bookcases  FUR-BO-10001798         240         260         2   \n",
       "1          Chairs  FUR-CH-10000454         600         730         3   \n",
       "2          Labels  OFF-LA-10000240          10          10         2   \n",
       "3          Tables  FUR-TA-10000577         780         960         5   \n",
       "4         Storage  OFF-ST-10000760          20          20         2   \n",
       "...           ...              ...         ...         ...       ...   \n",
       "9989  Furnishings  FUR-FU-10001889          30          30         3   \n",
       "9990  Furnishings  FUR-FU-10000747          70          90         2   \n",
       "9991       Phones  TEC-PH-10003645         220         260         2   \n",
       "9992        Paper  OFF-PA-10004041          30          30         4   \n",
       "9993   Appliances  OFF-AP-10002684         210         240         2   \n",
       "\n",
       "      Discount_Percent  \n",
       "0                    2  \n",
       "1                    3  \n",
       "2                    5  \n",
       "3                    2  \n",
       "4                    5  \n",
       "...                ...  \n",
       "9989                 4  \n",
       "9990                 4  \n",
       "9991                 2  \n",
       "9992                 3  \n",
       "9993                 3  \n",
       "\n",
       "[9994 rows x 16 columns]"
      ]
     },
     "execution_count": 189,
     "metadata": {},
     "output_type": "execute_result"
    }
   ],
   "source": [
    "orders"
   ]
  },
  {
   "cell_type": "code",
   "execution_count": 191,
   "id": "2b5be98f-1a96-4e34-b620-67295dad5c98",
   "metadata": {},
   "outputs": [
    {
     "data": {
      "text/html": [
       "<div>\n",
       "<style scoped>\n",
       "    .dataframe tbody tr th:only-of-type {\n",
       "        vertical-align: middle;\n",
       "    }\n",
       "\n",
       "    .dataframe tbody tr th {\n",
       "        vertical-align: top;\n",
       "    }\n",
       "\n",
       "    .dataframe thead th {\n",
       "        text-align: right;\n",
       "    }\n",
       "</style>\n",
       "<table border=\"1\" class=\"dataframe\">\n",
       "  <thead>\n",
       "    <tr style=\"text-align: right;\">\n",
       "      <th></th>\n",
       "      <th>Order_Id</th>\n",
       "      <th>Order_Date</th>\n",
       "      <th>Ship_Mode</th>\n",
       "      <th>Segment</th>\n",
       "      <th>Country</th>\n",
       "      <th>City</th>\n",
       "      <th>State</th>\n",
       "      <th>Postal_Code</th>\n",
       "      <th>Region</th>\n",
       "      <th>Category</th>\n",
       "      <th>Sub_Category</th>\n",
       "      <th>Product_Id</th>\n",
       "      <th>cost_price</th>\n",
       "      <th>List_Price</th>\n",
       "      <th>Quantity</th>\n",
       "      <th>Discount_Percent</th>\n",
       "    </tr>\n",
       "  </thead>\n",
       "  <tbody>\n",
       "  </tbody>\n",
       "</table>\n",
       "</div>"
      ],
      "text/plain": [
       "Empty DataFrame\n",
       "Columns: [Order_Id, Order_Date, Ship_Mode, Segment, Country, City, State, Postal_Code, Region, Category, Sub_Category, Product_Id, cost_price, List_Price, Quantity, Discount_Percent]\n",
       "Index: []"
      ]
     },
     "execution_count": 191,
     "metadata": {},
     "output_type": "execute_result"
    }
   ],
   "source": [
    "orders[orders.isnull().any(axis=1)]"
   ]
  },
  {
   "cell_type": "code",
   "execution_count": 195,
   "id": "fb6b0d03-d7c5-4070-82ae-b43e2ac1dea7",
   "metadata": {},
   "outputs": [],
   "source": [
    "orders.fillna(\"Info Not Vailable\", inplace=True)"
   ]
  },
  {
   "cell_type": "code",
   "execution_count": 63,
   "id": "b89a11d0-90ba-40b2-920e-ed9674ca486b",
   "metadata": {},
   "outputs": [
    {
     "data": {
      "text/html": [
       "<div>\n",
       "<style scoped>\n",
       "    .dataframe tbody tr th:only-of-type {\n",
       "        vertical-align: middle;\n",
       "    }\n",
       "\n",
       "    .dataframe tbody tr th {\n",
       "        vertical-align: top;\n",
       "    }\n",
       "\n",
       "    .dataframe thead th {\n",
       "        text-align: right;\n",
       "    }\n",
       "</style>\n",
       "<table border=\"1\" class=\"dataframe\">\n",
       "  <thead>\n",
       "    <tr style=\"text-align: right;\">\n",
       "      <th></th>\n",
       "      <th>Order Id</th>\n",
       "      <th>Order Date</th>\n",
       "      <th>Ship Mode</th>\n",
       "      <th>Segment</th>\n",
       "      <th>Country</th>\n",
       "      <th>City</th>\n",
       "      <th>State</th>\n",
       "      <th>Postal Code</th>\n",
       "      <th>Region</th>\n",
       "      <th>Category</th>\n",
       "      <th>Sub Category</th>\n",
       "      <th>Product Id</th>\n",
       "      <th>cost price</th>\n",
       "      <th>List Price</th>\n",
       "      <th>Quantity</th>\n",
       "      <th>Discount Percent</th>\n",
       "    </tr>\n",
       "  </thead>\n",
       "  <tbody>\n",
       "  </tbody>\n",
       "</table>\n",
       "</div>"
      ],
      "text/plain": [
       "Empty DataFrame\n",
       "Columns: [Order Id, Order Date, Ship Mode, Segment, Country, City, State, Postal Code, Region, Category, Sub Category, Product Id, cost price, List Price, Quantity, Discount Percent]\n",
       "Index: []"
      ]
     },
     "execution_count": 63,
     "metadata": {},
     "output_type": "execute_result"
    }
   ],
   "source": [
    "orders[orders.isnull().any(axis=1)]"
   ]
  },
  {
   "cell_type": "code",
   "execution_count": 201,
   "id": "cfba69cd-7c5e-497e-aba9-9f89587f85b7",
   "metadata": {},
   "outputs": [],
   "source": [
    "print(\"trim leading and trailing spaces\")\n",
    "orders = orders.map(lambda x: x.strip() if isinstance(x, str) else x)"
   ]
  },
  {
   "cell_type": "code",
   "execution_count": 215,
   "id": "07c1e562-0df3-4c5d-83fd-fad48bab28f0",
   "metadata": {},
   "outputs": [],
   "source": [
    "orders[\"discounted_amount\"] = (orders[\"List_Price\"] * orders[\"Discount_Percent\"]) / 100\n",
    "orders[\"Sale_price\"] = orders[\"List_Price\"] - orders[\"discounted_amount\"]\n",
    "orders[\"Profit_Percentage\"] = ((orders[\"Sale_price\"] - orders[\"cost_price\"]) / orders[\"cost_price\"]) * 100\n"
   ]
  },
  {
   "cell_type": "code",
   "execution_count": 217,
   "id": "652b0745-0dd9-41d6-b673-40b538e10274",
   "metadata": {},
   "outputs": [
    {
     "name": "stdout",
     "output_type": "stream",
     "text": [
      "<class 'pandas.core.frame.DataFrame'>\n",
      "RangeIndex: 9994 entries, 0 to 9993\n",
      "Data columns (total 19 columns):\n",
      " #   Column             Non-Null Count  Dtype  \n",
      "---  ------             --------------  -----  \n",
      " 0   Order_Id           9994 non-null   int64  \n",
      " 1   Order_Date         9994 non-null   object \n",
      " 2   Ship_Mode          9994 non-null   object \n",
      " 3   Segment            9994 non-null   object \n",
      " 4   Country            9994 non-null   object \n",
      " 5   City               9994 non-null   object \n",
      " 6   State              9994 non-null   object \n",
      " 7   Postal_Code        9994 non-null   int64  \n",
      " 8   Region             9994 non-null   object \n",
      " 9   Category           9994 non-null   object \n",
      " 10  Sub_Category       9994 non-null   object \n",
      " 11  Product_Id         9994 non-null   object \n",
      " 12  cost_price         9994 non-null   int64  \n",
      " 13  List_Price         9994 non-null   int64  \n",
      " 14  Quantity           9994 non-null   int64  \n",
      " 15  Discount_Percent   9994 non-null   int64  \n",
      " 16  discounted_amount  9994 non-null   float64\n",
      " 17  Sale_price         9994 non-null   float64\n",
      " 18  Profit_Percentage  9487 non-null   float64\n",
      "dtypes: float64(3), int64(6), object(10)\n",
      "memory usage: 1.4+ MB\n"
     ]
    }
   ],
   "source": [
    "orders.info()"
   ]
  },
  {
   "cell_type": "code",
   "execution_count": 221,
   "id": "2a090229-7905-41df-8efe-be9ba61b3d62",
   "metadata": {},
   "outputs": [],
   "source": [
    "ordersdf=orders[[\"Order_Id\", \"Order_Date\", \"Ship_Mode\", \"Segment\", \"Country\",\"City\",\"State\",\"Postal_Code\",\"Region\"]]"
   ]
  },
  {
   "cell_type": "code",
   "execution_count": 225,
   "id": "28c78feb-371c-4490-973b-e54216b17524",
   "metadata": {},
   "outputs": [],
   "source": [
    "ordersdf2=orders[[\"Order_Id\",\"Category\",\"Sub_Category\",\"Product_Id\",\"cost_price\",\"List_Price\",\"Quantity\",\"Discount_Percent\",\"discounted_amount\",\"Sale_price\",\"Profit_Percentage\"]]"
   ]
  },
  {
   "cell_type": "code",
   "execution_count": 227,
   "id": "1450119d-ec3e-44b9-ab4d-1a266d9b1542",
   "metadata": {},
   "outputs": [
    {
     "data": {
      "text/plain": [
       "Order_Id       0\n",
       "Order_Date     0\n",
       "Ship_Mode      0\n",
       "Segment        0\n",
       "Country        0\n",
       "City           0\n",
       "State          0\n",
       "Postal_Code    0\n",
       "Region         0\n",
       "dtype: int64"
      ]
     },
     "execution_count": 227,
     "metadata": {},
     "output_type": "execute_result"
    }
   ],
   "source": [
    "ordersdf.isnull().sum()"
   ]
  },
  {
   "cell_type": "code",
   "execution_count": 229,
   "id": "2c50423a-4003-4145-8d9e-5a68a3ac6777",
   "metadata": {},
   "outputs": [
    {
     "name": "stdout",
     "output_type": "stream",
     "text": [
      "Requirement already satisfied: pymysql in c:\\users\\kanna\\anaconda3\\lib\\site-packages (1.1.1)Note: you may need to restart the kernel to use updated packages.\n",
      "\n"
     ]
    }
   ],
   "source": [
    "pip install pymysql"
   ]
  },
  {
   "cell_type": "code",
   "execution_count": 107,
   "id": "95c3426e-d9b9-45d7-a4fa-891c4be837f4",
   "metadata": {},
   "outputs": [],
   "source": [
    "from sqlalchemy import create_engine"
   ]
  },
  {
   "cell_type": "code",
   "execution_count": 231,
   "id": "b0ec682c-8fbd-47f6-afdf-c835bbca9367",
   "metadata": {},
   "outputs": [
    {
     "name": "stdout",
     "output_type": "stream",
     "text": [
      "Connected\n",
      "Successfully connected to the MySQL database!\n"
     ]
    }
   ],
   "source": [
    "\n",
    "username = \"jup1user\"\n",
    "password = 'Jup12user'\n",
    "host = \"localhost\"\n",
    "port = \"3306\"\n",
    "database = \"retails_orders\"\n",
    "\n",
    "connection_string = f\"mysql+pymysql://{username}:{password}@{host}:{port}/{database}\"\n",
    "engine = create_engine(connection_string)\n",
    "print(\"Connected\")\n",
    "try:\n",
    "    with engine.connect() as connection:\n",
    "        print(\"Successfully connected to the MySQL database!\")\n",
    "except Exception as e:\n",
    "    print(\"Error connecting to the MySQL database:\", e)"
   ]
  },
  {
   "cell_type": "code",
   "execution_count": 233,
   "id": "f5217254-1e90-4a30-a7a7-7b434c04c821",
   "metadata": {},
   "outputs": [
    {
     "name": "stderr",
     "output_type": "stream",
     "text": [
      "C:\\Users\\kanna\\AppData\\Local\\Temp\\ipykernel_24704\\999996407.py:1: UserWarning: The provided table name 'DFto_Order' is not found exactly as such in the database after writing the table, possibly due to case sensitivity issues. Consider using lower case table names.\n",
      "  ordersdf.to_sql(name=\"DFto_Order\", con=engine, if_exists=\"replace\", index=False)\n"
     ]
    },
    {
     "data": {
      "text/plain": [
       "9994"
      ]
     },
     "execution_count": 233,
     "metadata": {},
     "output_type": "execute_result"
    }
   ],
   "source": [
    "ordersdf.to_sql(name=\"DFto_Order\", con=engine, if_exists=\"replace\", index=False)"
   ]
  },
  {
   "cell_type": "code",
   "execution_count": 235,
   "id": "e8c6421d-61f5-4aea-8bc3-bcf7b6fe4ec5",
   "metadata": {},
   "outputs": [
    {
     "name": "stderr",
     "output_type": "stream",
     "text": [
      "C:\\Users\\kanna\\AppData\\Local\\Temp\\ipykernel_24704\\3536760326.py:1: UserWarning: The provided table name 'DFto_Order2' is not found exactly as such in the database after writing the table, possibly due to case sensitivity issues. Consider using lower case table names.\n",
      "  ordersdf2.to_sql(name=\"DFto_Order2\", con=engine, if_exists=\"replace\", index=False)\n"
     ]
    },
    {
     "data": {
      "text/plain": [
       "9994"
      ]
     },
     "execution_count": 235,
     "metadata": {},
     "output_type": "execute_result"
    }
   ],
   "source": [
    "ordersdf2.to_sql(name=\"DFto_Order2\", con=engine, if_exists=\"replace\", index=False)"
   ]
  },
  {
   "cell_type": "code",
   "execution_count": 237,
   "id": "ad272e20-ae2f-4eb0-9427-58fe4ab7a7c1",
   "metadata": {},
   "outputs": [],
   "source": [
    "query = \"SELECT * FROM DFto_Order2;\"\n",
    "with engine.connect() as connection:\n",
    "        result_df = pd.read_sql(query, con=connection)"
   ]
  },
  {
   "cell_type": "code",
   "execution_count": 239,
   "id": "94f63dea-6a6d-4e5d-9132-dc5eadd1c606",
   "metadata": {},
   "outputs": [
    {
     "data": {
      "text/html": [
       "<div>\n",
       "<style scoped>\n",
       "    .dataframe tbody tr th:only-of-type {\n",
       "        vertical-align: middle;\n",
       "    }\n",
       "\n",
       "    .dataframe tbody tr th {\n",
       "        vertical-align: top;\n",
       "    }\n",
       "\n",
       "    .dataframe thead th {\n",
       "        text-align: right;\n",
       "    }\n",
       "</style>\n",
       "<table border=\"1\" class=\"dataframe\">\n",
       "  <thead>\n",
       "    <tr style=\"text-align: right;\">\n",
       "      <th></th>\n",
       "      <th>Order_Id</th>\n",
       "      <th>Category</th>\n",
       "      <th>Sub_Category</th>\n",
       "      <th>Product_Id</th>\n",
       "      <th>cost_price</th>\n",
       "      <th>List_Price</th>\n",
       "      <th>Quantity</th>\n",
       "      <th>Discount_Percent</th>\n",
       "      <th>discounted_amount</th>\n",
       "      <th>Sale_price</th>\n",
       "      <th>Profit_Percentage</th>\n",
       "    </tr>\n",
       "  </thead>\n",
       "  <tbody>\n",
       "    <tr>\n",
       "      <th>0</th>\n",
       "      <td>1</td>\n",
       "      <td>Furniture</td>\n",
       "      <td>Bookcases</td>\n",
       "      <td>FUR-BO-10001798</td>\n",
       "      <td>240</td>\n",
       "      <td>260</td>\n",
       "      <td>2</td>\n",
       "      <td>2</td>\n",
       "      <td>5.2</td>\n",
       "      <td>254.8</td>\n",
       "      <td>6.166667</td>\n",
       "    </tr>\n",
       "    <tr>\n",
       "      <th>1</th>\n",
       "      <td>2</td>\n",
       "      <td>Furniture</td>\n",
       "      <td>Chairs</td>\n",
       "      <td>FUR-CH-10000454</td>\n",
       "      <td>600</td>\n",
       "      <td>730</td>\n",
       "      <td>3</td>\n",
       "      <td>3</td>\n",
       "      <td>21.9</td>\n",
       "      <td>708.1</td>\n",
       "      <td>18.016667</td>\n",
       "    </tr>\n",
       "    <tr>\n",
       "      <th>2</th>\n",
       "      <td>3</td>\n",
       "      <td>Office Supplies</td>\n",
       "      <td>Labels</td>\n",
       "      <td>OFF-LA-10000240</td>\n",
       "      <td>10</td>\n",
       "      <td>10</td>\n",
       "      <td>2</td>\n",
       "      <td>5</td>\n",
       "      <td>0.5</td>\n",
       "      <td>9.5</td>\n",
       "      <td>-5.000000</td>\n",
       "    </tr>\n",
       "    <tr>\n",
       "      <th>3</th>\n",
       "      <td>4</td>\n",
       "      <td>Furniture</td>\n",
       "      <td>Tables</td>\n",
       "      <td>FUR-TA-10000577</td>\n",
       "      <td>780</td>\n",
       "      <td>960</td>\n",
       "      <td>5</td>\n",
       "      <td>2</td>\n",
       "      <td>19.2</td>\n",
       "      <td>940.8</td>\n",
       "      <td>20.615385</td>\n",
       "    </tr>\n",
       "    <tr>\n",
       "      <th>4</th>\n",
       "      <td>5</td>\n",
       "      <td>Office Supplies</td>\n",
       "      <td>Storage</td>\n",
       "      <td>OFF-ST-10000760</td>\n",
       "      <td>20</td>\n",
       "      <td>20</td>\n",
       "      <td>2</td>\n",
       "      <td>5</td>\n",
       "      <td>1.0</td>\n",
       "      <td>19.0</td>\n",
       "      <td>-5.000000</td>\n",
       "    </tr>\n",
       "    <tr>\n",
       "      <th>...</th>\n",
       "      <td>...</td>\n",
       "      <td>...</td>\n",
       "      <td>...</td>\n",
       "      <td>...</td>\n",
       "      <td>...</td>\n",
       "      <td>...</td>\n",
       "      <td>...</td>\n",
       "      <td>...</td>\n",
       "      <td>...</td>\n",
       "      <td>...</td>\n",
       "      <td>...</td>\n",
       "    </tr>\n",
       "    <tr>\n",
       "      <th>9989</th>\n",
       "      <td>9990</td>\n",
       "      <td>Furniture</td>\n",
       "      <td>Furnishings</td>\n",
       "      <td>FUR-FU-10001889</td>\n",
       "      <td>30</td>\n",
       "      <td>30</td>\n",
       "      <td>3</td>\n",
       "      <td>4</td>\n",
       "      <td>1.2</td>\n",
       "      <td>28.8</td>\n",
       "      <td>-4.000000</td>\n",
       "    </tr>\n",
       "    <tr>\n",
       "      <th>9990</th>\n",
       "      <td>9991</td>\n",
       "      <td>Furniture</td>\n",
       "      <td>Furnishings</td>\n",
       "      <td>FUR-FU-10000747</td>\n",
       "      <td>70</td>\n",
       "      <td>90</td>\n",
       "      <td>2</td>\n",
       "      <td>4</td>\n",
       "      <td>3.6</td>\n",
       "      <td>86.4</td>\n",
       "      <td>23.428571</td>\n",
       "    </tr>\n",
       "    <tr>\n",
       "      <th>9991</th>\n",
       "      <td>9992</td>\n",
       "      <td>Technology</td>\n",
       "      <td>Phones</td>\n",
       "      <td>TEC-PH-10003645</td>\n",
       "      <td>220</td>\n",
       "      <td>260</td>\n",
       "      <td>2</td>\n",
       "      <td>2</td>\n",
       "      <td>5.2</td>\n",
       "      <td>254.8</td>\n",
       "      <td>15.818182</td>\n",
       "    </tr>\n",
       "    <tr>\n",
       "      <th>9992</th>\n",
       "      <td>9993</td>\n",
       "      <td>Office Supplies</td>\n",
       "      <td>Paper</td>\n",
       "      <td>OFF-PA-10004041</td>\n",
       "      <td>30</td>\n",
       "      <td>30</td>\n",
       "      <td>4</td>\n",
       "      <td>3</td>\n",
       "      <td>0.9</td>\n",
       "      <td>29.1</td>\n",
       "      <td>-3.000000</td>\n",
       "    </tr>\n",
       "    <tr>\n",
       "      <th>9993</th>\n",
       "      <td>9994</td>\n",
       "      <td>Office Supplies</td>\n",
       "      <td>Appliances</td>\n",
       "      <td>OFF-AP-10002684</td>\n",
       "      <td>210</td>\n",
       "      <td>240</td>\n",
       "      <td>2</td>\n",
       "      <td>3</td>\n",
       "      <td>7.2</td>\n",
       "      <td>232.8</td>\n",
       "      <td>10.857143</td>\n",
       "    </tr>\n",
       "  </tbody>\n",
       "</table>\n",
       "<p>9994 rows × 11 columns</p>\n",
       "</div>"
      ],
      "text/plain": [
       "      Order_Id         Category Sub_Category       Product_Id  cost_price  \\\n",
       "0            1        Furniture    Bookcases  FUR-BO-10001798         240   \n",
       "1            2        Furniture       Chairs  FUR-CH-10000454         600   \n",
       "2            3  Office Supplies       Labels  OFF-LA-10000240          10   \n",
       "3            4        Furniture       Tables  FUR-TA-10000577         780   \n",
       "4            5  Office Supplies      Storage  OFF-ST-10000760          20   \n",
       "...        ...              ...          ...              ...         ...   \n",
       "9989      9990        Furniture  Furnishings  FUR-FU-10001889          30   \n",
       "9990      9991        Furniture  Furnishings  FUR-FU-10000747          70   \n",
       "9991      9992       Technology       Phones  TEC-PH-10003645         220   \n",
       "9992      9993  Office Supplies        Paper  OFF-PA-10004041          30   \n",
       "9993      9994  Office Supplies   Appliances  OFF-AP-10002684         210   \n",
       "\n",
       "      List_Price  Quantity  Discount_Percent  discounted_amount  Sale_price  \\\n",
       "0            260         2                 2                5.2       254.8   \n",
       "1            730         3                 3               21.9       708.1   \n",
       "2             10         2                 5                0.5         9.5   \n",
       "3            960         5                 2               19.2       940.8   \n",
       "4             20         2                 5                1.0        19.0   \n",
       "...          ...       ...               ...                ...         ...   \n",
       "9989          30         3                 4                1.2        28.8   \n",
       "9990          90         2                 4                3.6        86.4   \n",
       "9991         260         2                 2                5.2       254.8   \n",
       "9992          30         4                 3                0.9        29.1   \n",
       "9993         240         2                 3                7.2       232.8   \n",
       "\n",
       "      Profit_Percentage  \n",
       "0              6.166667  \n",
       "1             18.016667  \n",
       "2             -5.000000  \n",
       "3             20.615385  \n",
       "4             -5.000000  \n",
       "...                 ...  \n",
       "9989          -4.000000  \n",
       "9990          23.428571  \n",
       "9991          15.818182  \n",
       "9992          -3.000000  \n",
       "9993          10.857143  \n",
       "\n",
       "[9994 rows x 11 columns]"
      ]
     },
     "execution_count": 239,
     "metadata": {},
     "output_type": "execute_result"
    }
   ],
   "source": [
    "result_df"
   ]
  },
  {
   "cell_type": "code",
   "execution_count": null,
   "id": "2d21e52d-6e19-4c14-9ebb-27cebfa8dc59",
   "metadata": {},
   "outputs": [],
   "source": []
  }
 ],
 "metadata": {
  "kernelspec": {
   "display_name": "Python 3 (ipykernel)",
   "language": "python",
   "name": "python3"
  },
  "language_info": {
   "codemirror_mode": {
    "name": "ipython",
    "version": 3
   },
   "file_extension": ".py",
   "mimetype": "text/x-python",
   "name": "python",
   "nbconvert_exporter": "python",
   "pygments_lexer": "ipython3",
   "version": "3.12.4"
  }
 },
 "nbformat": 4,
 "nbformat_minor": 5
}
